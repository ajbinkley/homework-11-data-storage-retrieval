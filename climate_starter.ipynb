{
 "cells": [
  {
   "cell_type": "code",
   "execution_count": 96,
   "metadata": {},
   "outputs": [],
   "source": [
    "\n",
    "from pprint import pprint\n",
    "from matplotlib import style\n",
    "style.use('fivethirtyeight')\n",
    "import matplotlib.pyplot as plt\n",
    "from matplotlib.pyplot import figure"
   ]
  },
  {
   "cell_type": "code",
   "execution_count": 97,
   "metadata": {},
   "outputs": [],
   "source": [
    "import numpy as np\n",
    "import pandas as pd"
   ]
  },
  {
   "cell_type": "code",
   "execution_count": 103,
   "metadata": {},
   "outputs": [],
   "source": [
    "import datetime as dt\n",
    "from datetime import timedelta as td\n",
    "from datetime import datetime"
   ]
  },
  {
   "cell_type": "markdown",
   "metadata": {},
   "source": [
    "# Reflect Tables into SQLAlchemy ORM"
   ]
  },
  {
   "cell_type": "code",
   "execution_count": 4,
   "metadata": {},
   "outputs": [],
   "source": [
    "# Python SQL toolkit and Object Relational Mapper\n",
    "import sqlalchemy\n",
    "from sqlalchemy.ext.automap import automap_base\n",
    "from sqlalchemy.orm import Session\n",
    "from sqlalchemy import create_engine, inspect, func"
   ]
  },
  {
   "cell_type": "code",
   "execution_count": 5,
   "metadata": {},
   "outputs": [],
   "source": [
    "engine = create_engine(\"sqlite:///Resources/hawaii.sqlite\")"
   ]
  },
  {
   "cell_type": "code",
   "execution_count": 6,
   "metadata": {},
   "outputs": [],
   "source": [
    "# reflect an existing database into a new model\n",
    "Base = automap_base()\n",
    "# reflect the tables\n",
    "Base.prepare(engine, reflect=True)"
   ]
  },
  {
   "cell_type": "code",
   "execution_count": 7,
   "metadata": {},
   "outputs": [
    {
     "data": {
      "text/plain": [
       "['measurement', 'station']"
      ]
     },
     "execution_count": 7,
     "metadata": {},
     "output_type": "execute_result"
    }
   ],
   "source": [
    "# We can view all of the classes that automap found\n",
    "Base.classes.keys()"
   ]
  },
  {
   "cell_type": "code",
   "execution_count": 8,
   "metadata": {},
   "outputs": [],
   "source": [
    "# Save references to each table\n",
    "Measurement = Base.classes.measurement\n",
    "Station = Base.classes.station"
   ]
  },
  {
   "cell_type": "code",
   "execution_count": 9,
   "metadata": {},
   "outputs": [],
   "source": [
    "# Create our session (link) from Python to the DB\n",
    "session = Session(engine)"
   ]
  },
  {
   "cell_type": "code",
   "execution_count": 10,
   "metadata": {},
   "outputs": [
    {
     "data": {
      "text/plain": [
       "['measurement', 'station']"
      ]
     },
     "execution_count": 10,
     "metadata": {},
     "output_type": "execute_result"
    }
   ],
   "source": [
    "inspector = inspect(engine)\n",
    "inspector.get_table_names()"
   ]
  },
  {
   "cell_type": "code",
   "execution_count": 11,
   "metadata": {},
   "outputs": [
    {
     "name": "stdout",
     "output_type": "stream",
     "text": [
      "id INTEGER\n",
      "station TEXT\n",
      "date TEXT\n",
      "prcp FLOAT\n",
      "tobs FLOAT\n"
     ]
    }
   ],
   "source": [
    "# Get a list of column names and types\n",
    "columns = inspector.get_columns('measurement')\n",
    "for c in columns:\n",
    "    print(c['name'], c[\"type\"])\n",
    "# columns"
   ]
  },
  {
   "cell_type": "code",
   "execution_count": 12,
   "metadata": {},
   "outputs": [
    {
     "name": "stdout",
     "output_type": "stream",
     "text": [
      "id INTEGER\n",
      "station TEXT\n",
      "name TEXT\n",
      "latitude FLOAT\n",
      "longitude FLOAT\n",
      "elevation FLOAT\n"
     ]
    }
   ],
   "source": [
    "# Get a list of column names and types\n",
    "columns = inspector.get_columns('station')\n",
    "for c in columns:\n",
    "    print(c['name'], c[\"type\"])\n",
    "# columns"
   ]
  },
  {
   "cell_type": "markdown",
   "metadata": {},
   "source": [
    "# Exploratory Climate Analysis"
   ]
  },
  {
   "cell_type": "code",
   "execution_count": 105,
   "metadata": {},
   "outputs": [
    {
     "data": {
      "text/plain": [
       "datetime.date(2016, 8, 23)"
      ]
     },
     "execution_count": 105,
     "metadata": {},
     "output_type": "execute_result"
    }
   ],
   "source": [
    "year_start = dt.date(2016, 8, 23)\n",
    "year_end = dt.date(2017, 8, 23)\n",
    "\n",
    "# Perform a query to retrieve the date and precipitation scores\n",
    "\n",
    "prcp_data = session.query(Measurement.date, Measurement.prcp).\\\n",
    "    filter(Measurement.date >= year_start).\\\n",
    "    filter(Measurement.date <= year_end).\\\n",
    "    all()\n",
    "prcp_data[0][0]\n",
    "\n",
    "date_convert = datetime.strptime(prcp_data[0][0], '%Y-%m-%d').date()\n",
    "date_convert\n",
    "year_start = dt.date(2016, 8, 23)\n",
    "year_start"
   ]
  },
  {
   "cell_type": "code",
   "execution_count": 33,
   "metadata": {},
   "outputs": [
    {
     "data": {
      "text/html": [
       "<div>\n",
       "<style scoped>\n",
       "    .dataframe tbody tr th:only-of-type {\n",
       "        vertical-align: middle;\n",
       "    }\n",
       "\n",
       "    .dataframe tbody tr th {\n",
       "        vertical-align: top;\n",
       "    }\n",
       "\n",
       "    .dataframe thead th {\n",
       "        text-align: right;\n",
       "    }\n",
       "</style>\n",
       "<table border=\"1\" class=\"dataframe\">\n",
       "  <thead>\n",
       "    <tr style=\"text-align: right;\">\n",
       "      <th></th>\n",
       "      <th>Total Precipitation</th>\n",
       "    </tr>\n",
       "    <tr>\n",
       "      <th>Date</th>\n",
       "      <th></th>\n",
       "    </tr>\n",
       "  </thead>\n",
       "  <tbody>\n",
       "    <tr>\n",
       "      <th>2016-08-23</th>\n",
       "      <td>2.71</td>\n",
       "    </tr>\n",
       "    <tr>\n",
       "      <th>2016-08-24</th>\n",
       "      <td>9.33</td>\n",
       "    </tr>\n",
       "    <tr>\n",
       "      <th>2016-08-25</th>\n",
       "      <td>0.54</td>\n",
       "    </tr>\n",
       "    <tr>\n",
       "      <th>2016-08-26</th>\n",
       "      <td>0.10</td>\n",
       "    </tr>\n",
       "    <tr>\n",
       "      <th>2016-08-27</th>\n",
       "      <td>0.32</td>\n",
       "    </tr>\n",
       "  </tbody>\n",
       "</table>\n",
       "</div>"
      ],
      "text/plain": [
       "            Total Precipitation\n",
       "Date                           \n",
       "2016-08-23                 2.71\n",
       "2016-08-24                 9.33\n",
       "2016-08-25                 0.54\n",
       "2016-08-26                 0.10\n",
       "2016-08-27                 0.32"
      ]
     },
     "execution_count": 33,
     "metadata": {},
     "output_type": "execute_result"
    }
   ],
   "source": [
    "year_start = dt.date(2016, 8, 23)\n",
    "year_end = dt.date(2017, 8, 23)\n",
    "\n",
    "# Perform a query to retrieve the date and precipitation scores\n",
    "\n",
    "prcp_data = session.query(Measurement.date, func.sum(Measurement.prcp)).\\\n",
    "    filter(Measurement.date >= year_start).\\\n",
    "    filter(Measurement.date <= year_end).\\\n",
    "    group_by(Measurement.date).\\\n",
    "    all()\n",
    "prcp_data\n",
    "\n",
    "date = []\n",
    "total_prcp = []\n",
    "\n",
    "for i in range(len(prcp_data)):\n",
    "    date.append(prcp_data[i][0])\n",
    "    total_prcp.append(prcp_data[i][1])\n",
    "                \n",
    "date\n",
    "\n",
    "df = pd.DataFrame({\n",
    "    'Date': date,\n",
    "    'Total Precipitation': total_prcp\n",
    "})\n",
    "\n",
    "\n",
    "df = df.set_index('Date')\n",
    "df = df.sort_values(by=['Date'])\n",
    "df.head()"
   ]
  },
  {
   "cell_type": "code",
   "execution_count": 34,
   "metadata": {},
   "outputs": [
    {
     "name": "stderr",
     "output_type": "stream",
     "text": [
      "C:\\Users\\andyj\\Anaconda3\\lib\\site-packages\\matplotlib\\cbook\\deprecation.py:107: MatplotlibDeprecationWarning: Adding an axes using the same arguments as a previous axes currently reuses the earlier instance.  In a future version, a new instance will always be created and returned.  Meanwhile, this warning can be suppressed, and the future behavior ensured, by passing a unique label to each axes instance.\n",
      "  warnings.warn(message, mplDeprecation, stacklevel=1)\n"
     ]
    },
    {
     "data": {
      "image/png": "[encoded data removed]",
      "text/plain": [
       "<Figure size 720x720 with 1 Axes>"
      ]
     },
     "metadata": {},
     "output_type": "display_data"
    }
   ],
   "source": [
    "df.plot(kind='bar', figsize=(10,10))\n",
    "ax1 = plt.axes()\n",
    "x_axis = ax1.axes.get_xaxis()\n",
    "x_axis.set_visible(False)\n",
    "\n",
    "# Rotate the xticks for the dates"
   ]
  },
  {
   "cell_type": "code",
   "execution_count": 35,
   "metadata": {},
   "outputs": [
    {
     "data": {
      "text/html": [
       "<div>\n",
       "<style scoped>\n",
       "    .dataframe tbody tr th:only-of-type {\n",
       "        vertical-align: middle;\n",
       "    }\n",
       "\n",
       "    .dataframe tbody tr th {\n",
       "        vertical-align: top;\n",
       "    }\n",
       "\n",
       "    .dataframe thead th {\n",
       "        text-align: right;\n",
       "    }\n",
       "</style>\n",
       "<table border=\"1\" class=\"dataframe\">\n",
       "  <thead>\n",
       "    <tr style=\"text-align: right;\">\n",
       "      <th></th>\n",
       "      <th>Total Precipitation</th>\n",
       "    </tr>\n",
       "  </thead>\n",
       "  <tbody>\n",
       "    <tr>\n",
       "      <th>count</th>\n",
       "      <td>366.000000</td>\n",
       "    </tr>\n",
       "    <tr>\n",
       "      <th>mean</th>\n",
       "      <td>0.978907</td>\n",
       "    </tr>\n",
       "    <tr>\n",
       "      <th>std</th>\n",
       "      <td>1.776349</td>\n",
       "    </tr>\n",
       "    <tr>\n",
       "      <th>min</th>\n",
       "      <td>0.000000</td>\n",
       "    </tr>\n",
       "    <tr>\n",
       "      <th>25%</th>\n",
       "      <td>0.052500</td>\n",
       "    </tr>\n",
       "    <tr>\n",
       "      <th>50%</th>\n",
       "      <td>0.405000</td>\n",
       "    </tr>\n",
       "    <tr>\n",
       "      <th>75%</th>\n",
       "      <td>1.087500</td>\n",
       "    </tr>\n",
       "    <tr>\n",
       "      <th>max</th>\n",
       "      <td>14.280000</td>\n",
       "    </tr>\n",
       "  </tbody>\n",
       "</table>\n",
       "</div>"
      ],
      "text/plain": [
       "       Total Precipitation\n",
       "count           366.000000\n",
       "mean              0.978907\n",
       "std               1.776349\n",
       "min               0.000000\n",
       "25%               0.052500\n",
       "50%               0.405000\n",
       "75%               1.087500\n",
       "max              14.280000"
      ]
     },
     "execution_count": 35,
     "metadata": {},
     "output_type": "execute_result"
    }
   ],
   "source": [
    "# Use Pandas to calcualte the summary statistics for the precipitation data\n",
    "df.describe()"
   ]
  },
  {
   "cell_type": "code",
   "execution_count": 36,
   "metadata": {},
   "outputs": [
    {
     "name": "stderr",
     "output_type": "stream",
     "text": [
      "C:\\Users\\andyj\\Anaconda3\\lib\\site-packages\\sqlalchemy\\sql\\compiler.py:643: SAWarning: Can't resolve label reference 'station_count DESC'; converting to text() (this warning may be suppressed after 10 occurrences)\n",
      "  util.ellipses_string(element.element))\n"
     ]
    },
    {
     "data": {
      "text/plain": [
       "[('USC00519281', 2772),\n",
       " ('USC00519397', 2724),\n",
       " ('USC00513117', 2709),\n",
       " ('USC00519523', 2669),\n",
       " ('USC00516128', 2612),\n",
       " ('USC00514830', 2202),\n",
       " ('USC00511918', 1979),\n",
       " ('USC00517948', 1372),\n",
       " ('USC00518838', 511)]"
      ]
     },
     "execution_count": 36,
     "metadata": {},
     "output_type": "execute_result"
    }
   ],
   "source": [
    "# What are the most active stations?\n",
    "# List the stations and the counts in descending order.\n",
    "\n",
    "#session.query(Station.station).distinct()\n",
    "\n",
    "session.query(Measurement.station, func.count(Measurement.station).label('station_count')).\\\n",
    "    group_by(Measurement.station).\\\n",
    "    order_by('station_count DESC').\\\n",
    "    all()"
   ]
  },
  {
   "cell_type": "code",
   "execution_count": 37,
   "metadata": {},
   "outputs": [
    {
     "name": "stderr",
     "output_type": "stream",
     "text": [
      "C:\\Users\\andyj\\Anaconda3\\lib\\site-packages\\sqlalchemy\\sql\\compiler.py:643: SAWarning: Can't resolve label reference 'station_count DESC'; converting to text() (this warning may be suppressed after 10 occurrences)\n",
      "  util.ellipses_string(element.element))\n"
     ]
    },
    {
     "data": {
      "text/plain": [
       "'USC00519281'"
      ]
     },
     "execution_count": 37,
     "metadata": {},
     "output_type": "execute_result"
    }
   ],
   "source": [
    "most_active_station = session.query(Measurement.station, func.count(Measurement.station).label('station_count')).\\\n",
    "    group_by(Measurement.station).\\\n",
    "    order_by('station_count DESC').\\\n",
    "    first()\n",
    "most_active_station = most_active_station[0]\n",
    "most_active_station"
   ]
  },
  {
   "cell_type": "code",
   "execution_count": 38,
   "metadata": {},
   "outputs": [
    {
     "data": {
      "text/plain": [
       "[('USC00519281', 71.66378066378067)]"
      ]
     },
     "execution_count": 38,
     "metadata": {},
     "output_type": "execute_result"
    }
   ],
   "source": [
    "# Using the station id from the previous query, calculate the lowest temperature recorded, \n",
    "# highest temperature recorded, and average temperature most active station?\n",
    "\n",
    "session.query(Measurement.station, func.min(Measurement.tobs)).\\\n",
    "    filter(Measurement.station == most_active_station).\\\n",
    "    all()\n",
    "\n",
    "session.query(Measurement.station, func.max(Measurement.tobs)).\\\n",
    "    filter(Measurement.station == most_active_station).\\\n",
    "    all()\n",
    "\n",
    "session.query(Measurement.station, func.avg(Measurement.tobs)).\\\n",
    "    filter(Measurement.station == most_active_station).\\\n",
    "    all()\n",
    "\n",
    "\n"
   ]
  },
  {
   "cell_type": "code",
   "execution_count": 46,
   "metadata": {},
   "outputs": [
    {
     "name": "stderr",
     "output_type": "stream",
     "text": [
      "C:\\Users\\andyj\\Anaconda3\\lib\\site-packages\\sqlalchemy\\sql\\compiler.py:643: SAWarning: Can't resolve label reference 'temp_count desc'; converting to text() (this warning may be suppressed after 10 occurrences)\n",
      "  util.ellipses_string(element.element))\n"
     ]
    },
    {
     "data": {
      "text/plain": [
       "'USC00519281'"
      ]
     },
     "execution_count": 46,
     "metadata": {},
     "output_type": "execute_result"
    }
   ],
   "source": [
    "# Choose the station with the highest number of temperature observations.\n",
    "\n",
    "highest_tobs = session.query(Measurement.station, func.count(Measurement.tobs).label('temp_count')).\\\n",
    "    order_by('temp_count desc').\\\n",
    "    group_by(Measurement.station).\\\n",
    "    first()\n",
    "highest_tobs[0]"
   ]
  },
  {
   "cell_type": "code",
   "execution_count": 81,
   "metadata": {},
   "outputs": [
    {
     "data": {
      "text/plain": [
       "[77.0,\n",
       " 77.0,\n",
       " 80.0,\n",
       " 80.0,\n",
       " 75.0,\n",
       " 73.0,\n",
       " 78.0,\n",
       " 77.0,\n",
       " 78.0,\n",
       " 80.0,\n",
       " 80.0,\n",
       " 78.0,\n",
       " 78.0,\n",
       " 78.0,\n",
       " 73.0,\n",
       " 74.0,\n",
       " 80.0,\n",
       " 79.0,\n",
       " 77.0,\n",
       " 80.0,\n",
       " 76.0,\n",
       " 79.0,\n",
       " 75.0,\n",
       " 79.0,\n",
       " 78.0,\n",
       " 79.0,\n",
       " 78.0,\n",
       " 78.0,\n",
       " 76.0,\n",
       " 74.0,\n",
       " 77.0,\n",
       " 78.0,\n",
       " 79.0,\n",
       " 79.0,\n",
       " 77.0,\n",
       " 80.0,\n",
       " 78.0,\n",
       " 78.0,\n",
       " 78.0,\n",
       " 77.0,\n",
       " 79.0,\n",
       " 79.0,\n",
       " 79.0,\n",
       " 79.0,\n",
       " 75.0,\n",
       " 76.0,\n",
       " 73.0,\n",
       " 72.0,\n",
       " 71.0,\n",
       " 77.0,\n",
       " 79.0,\n",
       " 78.0,\n",
       " 79.0,\n",
       " 77.0,\n",
       " 79.0,\n",
       " 77.0,\n",
       " 78.0,\n",
       " 78.0,\n",
       " 78.0,\n",
       " 78.0,\n",
       " 77.0,\n",
       " 74.0,\n",
       " 75.0,\n",
       " 76.0,\n",
       " 73.0,\n",
       " 76.0,\n",
       " 74.0,\n",
       " 77.0,\n",
       " 76.0,\n",
       " 76.0,\n",
       " 74.0,\n",
       " 75.0,\n",
       " 75.0,\n",
       " 75.0,\n",
       " 75.0,\n",
       " 71.0,\n",
       " 63.0,\n",
       " 70.0,\n",
       " 68.0,\n",
       " 67.0,\n",
       " 77.0,\n",
       " 74.0,\n",
       " 77.0,\n",
       " 76.0,\n",
       " 76.0,\n",
       " 75.0,\n",
       " 76.0,\n",
       " 75.0,\n",
       " 73.0,\n",
       " 75.0,\n",
       " 73.0,\n",
       " 75.0,\n",
       " 74.0,\n",
       " 75.0,\n",
       " 74.0,\n",
       " 75.0,\n",
       " 73.0,\n",
       " 75.0,\n",
       " 73.0,\n",
       " 73.0,\n",
       " 74.0,\n",
       " 70.0,\n",
       " 72.0,\n",
       " 70.0,\n",
       " 67.0,\n",
       " 67.0,\n",
       " 69.0,\n",
       " 70.0,\n",
       " 68.0,\n",
       " 69.0,\n",
       " 69.0,\n",
       " 66.0,\n",
       " 65.0,\n",
       " 68.0,\n",
       " 62.0,\n",
       " 75.0,\n",
       " 70.0,\n",
       " 69.0,\n",
       " 76.0,\n",
       " 76.0,\n",
       " 74.0,\n",
       " 73.0,\n",
       " 71.0,\n",
       " 74.0,\n",
       " 74.0,\n",
       " 72.0,\n",
       " 71.0,\n",
       " 72.0,\n",
       " 74.0,\n",
       " 69.0,\n",
       " 67.0,\n",
       " 72.0,\n",
       " 70.0,\n",
       " 64.0,\n",
       " 63.0,\n",
       " 63.0,\n",
       " 62.0,\n",
       " 70.0,\n",
       " 70.0,\n",
       " 62.0,\n",
       " 62.0,\n",
       " 63.0,\n",
       " 65.0,\n",
       " 69.0,\n",
       " 77.0,\n",
       " 70.0,\n",
       " 74.0,\n",
       " 69.0,\n",
       " 72.0,\n",
       " 71.0,\n",
       " 69.0,\n",
       " 71.0,\n",
       " 71.0,\n",
       " 72.0,\n",
       " 72.0,\n",
       " 69.0,\n",
       " 70.0,\n",
       " 66.0,\n",
       " 65.0,\n",
       " 69.0,\n",
       " 68.0,\n",
       " 68.0,\n",
       " 68.0,\n",
       " 59.0,\n",
       " 60.0,\n",
       " 70.0,\n",
       " 73.0,\n",
       " 75.0,\n",
       " 64.0,\n",
       " 59.0,\n",
       " 59.0,\n",
       " 62.0,\n",
       " 68.0,\n",
       " 70.0,\n",
       " 73.0,\n",
       " 79.0,\n",
       " 75.0,\n",
       " 65.0,\n",
       " 70.0,\n",
       " 74.0,\n",
       " 70.0,\n",
       " 70.0,\n",
       " 71.0,\n",
       " 71.0,\n",
       " 71.0,\n",
       " 69.0,\n",
       " 61.0,\n",
       " 67.0,\n",
       " 65.0,\n",
       " 72.0,\n",
       " 71.0,\n",
       " 73.0,\n",
       " 72.0,\n",
       " 77.0,\n",
       " 73.0,\n",
       " 67.0,\n",
       " 62.0,\n",
       " 64.0,\n",
       " 67.0,\n",
       " 66.0,\n",
       " 81.0,\n",
       " 69.0,\n",
       " 66.0,\n",
       " 67.0,\n",
       " 69.0,\n",
       " 66.0,\n",
       " 68.0,\n",
       " 65.0,\n",
       " 74.0,\n",
       " 69.0,\n",
       " 72.0,\n",
       " 73.0,\n",
       " 72.0,\n",
       " 71.0,\n",
       " 76.0,\n",
       " 77.0,\n",
       " 76.0,\n",
       " 74.0,\n",
       " 68.0,\n",
       " 73.0,\n",
       " 71.0,\n",
       " 74.0,\n",
       " 75.0,\n",
       " 70.0,\n",
       " 67.0,\n",
       " 71.0,\n",
       " 67.0,\n",
       " 74.0,\n",
       " 77.0,\n",
       " 78.0,\n",
       " 67.0,\n",
       " 70.0,\n",
       " 69.0,\n",
       " 69.0,\n",
       " 74.0,\n",
       " 78.0,\n",
       " 71.0,\n",
       " 67.0,\n",
       " 68.0,\n",
       " 67.0,\n",
       " 76.0,\n",
       " 69.0,\n",
       " 72.0,\n",
       " 76.0,\n",
       " 68.0,\n",
       " 72.0,\n",
       " 74.0,\n",
       " 70.0,\n",
       " 67.0,\n",
       " 72.0,\n",
       " 60.0,\n",
       " 65.0,\n",
       " 75.0,\n",
       " 70.0,\n",
       " 75.0,\n",
       " 70.0,\n",
       " 79.0,\n",
       " 75.0,\n",
       " 70.0,\n",
       " 67.0,\n",
       " 74.0,\n",
       " 70.0,\n",
       " 75.0,\n",
       " 76.0,\n",
       " 77.0,\n",
       " 74.0,\n",
       " 74.0,\n",
       " 74.0,\n",
       " 69.0,\n",
       " 68.0,\n",
       " 76.0,\n",
       " 74.0,\n",
       " 71.0,\n",
       " 71.0,\n",
       " 74.0,\n",
       " 74.0,\n",
       " 74.0,\n",
       " 74.0,\n",
       " 80.0,\n",
       " 74.0,\n",
       " 72.0,\n",
       " 75.0,\n",
       " 80.0,\n",
       " 76.0,\n",
       " 76.0,\n",
       " 77.0,\n",
       " 75.0,\n",
       " 75.0,\n",
       " 75.0,\n",
       " 75.0,\n",
       " 72.0,\n",
       " 74.0,\n",
       " 74.0,\n",
       " 74.0,\n",
       " 76.0,\n",
       " 74.0,\n",
       " 75.0,\n",
       " 73.0,\n",
       " 79.0,\n",
       " 75.0,\n",
       " 72.0,\n",
       " 72.0,\n",
       " 74.0,\n",
       " 72.0,\n",
       " 72.0,\n",
       " 77.0,\n",
       " 71.0,\n",
       " 73.0,\n",
       " 76.0,\n",
       " 77.0,\n",
       " 76.0,\n",
       " 76.0,\n",
       " 79.0,\n",
       " 81.0,\n",
       " 76.0,\n",
       " 78.0,\n",
       " 77.0,\n",
       " 74.0,\n",
       " 75.0,\n",
       " 78.0,\n",
       " 78.0,\n",
       " 69.0,\n",
       " 72.0,\n",
       " 74.0,\n",
       " 74.0,\n",
       " 76.0,\n",
       " 80.0,\n",
       " 80.0,\n",
       " 76.0,\n",
       " 76.0,\n",
       " 76.0,\n",
       " 77.0,\n",
       " 77.0,\n",
       " 77.0,\n",
       " 82.0,\n",
       " 75.0,\n",
       " 77.0,\n",
       " 75.0,\n",
       " 76.0,\n",
       " 81.0,\n",
       " 82.0,\n",
       " 81.0,\n",
       " 76.0,\n",
       " 77.0,\n",
       " 82.0,\n",
       " 83.0,\n",
       " 77.0,\n",
       " 77.0,\n",
       " 77.0,\n",
       " 76.0,\n",
       " 76.0,\n",
       " 79.0]"
      ]
     },
     "execution_count": 81,
     "metadata": {},
     "output_type": "execute_result"
    }
   ],
   "source": [
    "# Query the last 12 months of temperature observation data for this station\n",
    "\n",
    "tobs_freq = session.query(Measurement.tobs).\\\n",
    "    filter(Measurement.date >= year_start).\\\n",
    "    filter(Measurement.date <= year_end).\\\n",
    "    filter(Measurement.station == highest_tobs[0]).\\\n",
    "    all()\n",
    "tobs_freq\n",
    "tobs_freq_array = []\n",
    "\n",
    "for i in range(len(tobs_freq)):\n",
    "    tobs_freq_array.append(tobs_freq[i][0])\n",
    "\n",
    "tobs_freq_array\n",
    "\n",
    "\n"
   ]
  },
  {
   "cell_type": "code",
   "execution_count": 83,
   "metadata": {},
   "outputs": [
    {
     "data": {
      "image/png": "[encoded data removed]",
      "text/plain": [
       "<Figure size 432x288 with 1 Axes>"
      ]
     },
     "metadata": {},
     "output_type": "display_data"
    }
   ],
   "source": [
    "#plot the results as a histogram\n",
    "\n",
    "num_bins = len(set(tobs_freq))\n",
    "fig, ax = plt.subplots()\n",
    "n, bins, patches = ax.hist(tobs_freq_array, num_bins)"
   ]
  },
  {
   "cell_type": "code",
   "execution_count": null,
   "metadata": {},
   "outputs": [],
   "source": []
  },
  {
   "cell_type": "code",
   "execution_count": 86,
   "metadata": {},
   "outputs": [
    {
     "name": "stdout",
     "output_type": "stream",
     "text": [
      "[(62.0, 69.57142857142857, 74.0)]\n"
     ]
    }
   ],
   "source": [
    "# Write a function called `calc_temps` that will accept start date and end date in the format '%Y-%m-%d' \n",
    "# and return the minimum, average, and maximum temperatures for that range of dates\n",
    "def calc_temps(start_date, end_date):\n",
    "    \"\"\"TMIN, TAVG, and TMAX for a list of dates.\n",
    "    \n",
    "    Args:\n",
    "        start_date (string): A date string in the format %Y-%m-%d\n",
    "        end_date (string): A date string in the format %Y-%m-%d\n",
    "        \n",
    "    Returns:\n",
    "        TMIN, TAVE, and TMAX\n",
    "    \"\"\"\n",
    "    \n",
    "    return session.query(func.min(Measurement.tobs), func.avg(Measurement.tobs), func.max(Measurement.tobs)).\\\n",
    "        filter(Measurement.date >= start_date).filter(Measurement.date <= end_date).all()\n",
    "print(calc_temps('2012-02-28', '2012-03-05'))"
   ]
  },
  {
   "cell_type": "code",
   "execution_count": 87,
   "metadata": {},
   "outputs": [
    {
     "name": "stdout",
     "output_type": "stream",
     "text": [
      "[(59.0, 74.11674478057094, 84.0)]\n"
     ]
    }
   ],
   "source": [
    "# Use your previous function `calc_temps` to calculate the tmin, tavg, and tmax \n",
    "# for your trip using the previous year's data for those same dates.\n",
    "print(calc_temps('2016-02-28', '2017-03-05'))\n",
    "calc_temps_plot = np.array(calc_temps('2016-02-28', '2017-03-05'))"
   ]
  },
  {
   "cell_type": "code",
   "execution_count": 92,
   "metadata": {},
   "outputs": [
    {
     "name": "stderr",
     "output_type": "stream",
     "text": [
      "C:\\Users\\andyj\\Anaconda3\\lib\\site-packages\\matplotlib\\cbook\\deprecation.py:107: MatplotlibDeprecationWarning: Adding an axes using the same arguments as a previous axes currently reuses the earlier instance.  In a future version, a new instance will always be created and returned.  Meanwhile, this warning can be suppressed, and the future behavior ensured, by passing a unique label to each axes instance.\n",
      "  warnings.warn(message, mplDeprecation, stacklevel=1)\n"
     ]
    },
    {
     "data": {
      "image/png": "[encoded data removed]",
      "text/plain": [
       "<Figure size 360x720 with 1 Axes>"
      ]
     },
     "metadata": {},
     "output_type": "display_data"
    }
   ],
   "source": [
    "# Plot the results from your previous query as a bar chart. \n",
    "# Use \"Trip Avg Temp\" as your Title\n",
    "# Use the average temperature for the y value\n",
    "# Use the peak-to-peak (tmax-tmin) value as the y error bar (yerr)\n",
    "\n",
    "\n",
    "yerr = calc_temps_plot[0][2] - calc_temps_plot[0][0]\n",
    "#calc_temps_x = np.arange(1)\n",
    "#calc_temps_x\n",
    "#fig = plt.bar(0,calc_temps_plot[0][1], yerr=yerr)\n",
    "#plt.show()\n",
    "ctp_df = pd.DataFrame(calc_temps_plot, columns=['min','avg','max'])\n",
    "ctp_df['avg'].plot(kind='bar', yerr=yerr, figsize=(5,10))\n",
    "ax2 = plt.axes()\n",
    "x_axis2 = ax2.axes.get_xaxis()\n",
    "x_axis2.set_visible(False)\n"
   ]
  },
  {
   "cell_type": "code",
   "execution_count": 93,
   "metadata": {},
   "outputs": [
    {
     "name": "stderr",
     "output_type": "stream",
     "text": [
      "C:\\Users\\andyj\\Anaconda3\\lib\\site-packages\\sqlalchemy\\sql\\compiler.py:643: SAWarning: Can't resolve label reference 'prcp_sum desc'; converting to text() (this warning may be suppressed after 10 occurrences)\n",
      "  util.ellipses_string(element.element))\n"
     ]
    },
    {
     "data": {
      "text/html": [
       "<div>\n",
       "<style scoped>\n",
       "    .dataframe tbody tr th:only-of-type {\n",
       "        vertical-align: middle;\n",
       "    }\n",
       "\n",
       "    .dataframe tbody tr th {\n",
       "        vertical-align: top;\n",
       "    }\n",
       "\n",
       "    .dataframe thead th {\n",
       "        text-align: right;\n",
       "    }\n",
       "</style>\n",
       "<table border=\"1\" class=\"dataframe\">\n",
       "  <thead>\n",
       "    <tr style=\"text-align: right;\">\n",
       "      <th></th>\n",
       "      <th>prcp_sum</th>\n",
       "      <th>latitude</th>\n",
       "      <th>longitude</th>\n",
       "      <th>elevation</th>\n",
       "    </tr>\n",
       "    <tr>\n",
       "      <th>name</th>\n",
       "      <th></th>\n",
       "      <th></th>\n",
       "      <th></th>\n",
       "      <th></th>\n",
       "    </tr>\n",
       "  </thead>\n",
       "  <tbody>\n",
       "    <tr>\n",
       "      <th>MANOA LYON ARBO 785.2, HI US</th>\n",
       "      <td>147.81</td>\n",
       "      <td>21.33310</td>\n",
       "      <td>-157.80250</td>\n",
       "      <td>152.4</td>\n",
       "    </tr>\n",
       "    <tr>\n",
       "      <th>WAIHEE 837.5, HI US</th>\n",
       "      <td>70.03</td>\n",
       "      <td>21.45167</td>\n",
       "      <td>-157.84889</td>\n",
       "      <td>32.9</td>\n",
       "    </tr>\n",
       "    <tr>\n",
       "      <th>KANEOHE 838.1, HI US</th>\n",
       "      <td>48.51</td>\n",
       "      <td>21.42340</td>\n",
       "      <td>-157.80150</td>\n",
       "      <td>14.6</td>\n",
       "    </tr>\n",
       "    <tr>\n",
       "      <th>WAIMANALO EXPERIMENTAL FARM, HI US</th>\n",
       "      <td>38.01</td>\n",
       "      <td>21.33556</td>\n",
       "      <td>-157.71139</td>\n",
       "      <td>19.5</td>\n",
       "    </tr>\n",
       "    <tr>\n",
       "      <th>KUALOA RANCH HEADQUARTERS 886.9, HI US</th>\n",
       "      <td>33.24</td>\n",
       "      <td>21.52130</td>\n",
       "      <td>-157.83740</td>\n",
       "      <td>7.0</td>\n",
       "    </tr>\n",
       "    <tr>\n",
       "      <th>WAIKIKI 717.2, HI US</th>\n",
       "      <td>16.09</td>\n",
       "      <td>21.27160</td>\n",
       "      <td>-157.81680</td>\n",
       "      <td>3.0</td>\n",
       "    </tr>\n",
       "    <tr>\n",
       "      <th>PEARL CITY, HI US</th>\n",
       "      <td>4.59</td>\n",
       "      <td>21.39340</td>\n",
       "      <td>-157.97510</td>\n",
       "      <td>11.9</td>\n",
       "    </tr>\n",
       "  </tbody>\n",
       "</table>\n",
       "</div>"
      ],
      "text/plain": [
       "                                        prcp_sum  latitude  longitude  \\\n",
       "name                                                                    \n",
       "MANOA LYON ARBO 785.2, HI US              147.81  21.33310 -157.80250   \n",
       "WAIHEE 837.5, HI US                        70.03  21.45167 -157.84889   \n",
       "KANEOHE 838.1, HI US                       48.51  21.42340 -157.80150   \n",
       "WAIMANALO EXPERIMENTAL FARM, HI US         38.01  21.33556 -157.71139   \n",
       "KUALOA RANCH HEADQUARTERS 886.9, HI US     33.24  21.52130 -157.83740   \n",
       "WAIKIKI 717.2, HI US                       16.09  21.27160 -157.81680   \n",
       "PEARL CITY, HI US                           4.59  21.39340 -157.97510   \n",
       "\n",
       "                                        elevation  \n",
       "name                                               \n",
       "MANOA LYON ARBO 785.2, HI US                152.4  \n",
       "WAIHEE 837.5, HI US                          32.9  \n",
       "KANEOHE 838.1, HI US                         14.6  \n",
       "WAIMANALO EXPERIMENTAL FARM, HI US           19.5  \n",
       "KUALOA RANCH HEADQUARTERS 886.9, HI US        7.0  \n",
       "WAIKIKI 717.2, HI US                          3.0  \n",
       "PEARL CITY, HI US                            11.9  "
      ]
     },
     "execution_count": 93,
     "metadata": {},
     "output_type": "execute_result"
    }
   ],
   "source": [
    "# Calculate the rainfall per weather station for your trip dates using the previous year's matching dates.\n",
    "# Sort this in descending order by precipitation amount and list the station, name, latitude, longitude, and elevation\n",
    "\n",
    "sel = [Station.name, func.sum(Measurement.prcp).label('prcp_sum'), Station.latitude, Station.longitude, Station.elevation]\n",
    "same_id = session.query(*sel).filter(Measurement.station == Station.station).\\\n",
    "    filter(Measurement.date >= year_start).\\\n",
    "    filter(Measurement.date <= year_end).\\\n",
    "    group_by(Station.name).\\\n",
    "    order_by('prcp_sum desc').\\\n",
    "    all()\n",
    "\n",
    "same_id\n",
    "\n",
    "prcp_df = pd.DataFrame(same_id)\n",
    "prcp_df.set_index('name')\n"
   ]
  },
  {
   "cell_type": "markdown",
   "metadata": {},
   "source": [
    "## Optional Challenge Assignment"
   ]
  },
  {
   "cell_type": "code",
   "execution_count": 94,
   "metadata": {},
   "outputs": [
    {
     "data": {
      "text/plain": [
       "[(62.0, 69.15384615384616, 77.0)]"
      ]
     },
     "execution_count": 94,
     "metadata": {},
     "output_type": "execute_result"
    }
   ],
   "source": [
    "# Create a query that will calculate the daily normals \n",
    "# (i.e. the averages for tmin, tmax, and tavg for all historic data matching a specific month and day)\n",
    "\n",
    "def daily_normals(date):\n",
    "    \"\"\"Daily Normals.\n",
    "    \n",
    "    Args:\n",
    "        date (str): A date string in the format '%m-%d'\n",
    "        \n",
    "    Returns:\n",
    "        A list of tuples containing the daily normals, tmin, tavg, and tmax\n",
    "    \n",
    "    \"\"\"\n",
    "    \n",
    "    sel = [func.min(Measurement.tobs), func.avg(Measurement.tobs), func.max(Measurement.tobs)]\n",
    "    return session.query(*sel).filter(func.strftime(\"%m-%d\", Measurement.date) == date).all()\n",
    "    \n",
    "daily_normals(\"01-01\")"
   ]
  },
  {
   "cell_type": "code",
   "execution_count": 100,
   "metadata": {},
   "outputs": [
    {
     "ename": "TypeError",
     "evalue": "'datetime.timedelta' object is not callable",
     "output_type": "error",
     "traceback": [
      "\u001b[1;31m---------------------------------------------------------------------------\u001b[0m",
      "\u001b[1;31mTypeError\u001b[0m                                 Traceback (most recent call last)",
      "\u001b[1;32m<ipython-input-100-92c442066596>\u001b[0m in \u001b[0;36m<module>\u001b[1;34m()\u001b[0m\n\u001b[0;32m     16\u001b[0m \u001b[1;33m\u001b[0m\u001b[0m\n\u001b[0;32m     17\u001b[0m \u001b[1;32mfor\u001b[0m \u001b[0mi\u001b[0m \u001b[1;32min\u001b[0m \u001b[0mrange\u001b[0m\u001b[1;33m(\u001b[0m\u001b[0mdelta\u001b[0m\u001b[1;33m.\u001b[0m\u001b[0mdays\u001b[0m \u001b[1;33m+\u001b[0m \u001b[1;36m1\u001b[0m\u001b[1;33m)\u001b[0m\u001b[1;33m:\u001b[0m\u001b[1;33m\u001b[0m\u001b[0m\n\u001b[1;32m---> 18\u001b[1;33m     \u001b[0mtrip_range\u001b[0m\u001b[1;33m.\u001b[0m\u001b[0mappend\u001b[0m\u001b[1;33m(\u001b[0m\u001b[1;33m(\u001b[0m\u001b[0mtrip_start\u001b[0m \u001b[1;33m+\u001b[0m \u001b[0mdelta\u001b[0m\u001b[1;33m(\u001b[0m\u001b[0mi\u001b[0m\u001b[1;33m)\u001b[0m\u001b[1;33m)\u001b[0m\u001b[1;33m.\u001b[0m\u001b[0mstrftime\u001b[0m\u001b[1;33m(\u001b[0m\u001b[1;34m'%m-%d'\u001b[0m\u001b[1;33m)\u001b[0m\u001b[1;33m)\u001b[0m\u001b[1;33m\u001b[0m\u001b[0m\n\u001b[0m\u001b[0;32m     19\u001b[0m \u001b[1;33m\u001b[0m\u001b[0m\n\u001b[0;32m     20\u001b[0m \u001b[0mtrip_range\u001b[0m\u001b[1;33m\u001b[0m\u001b[0m\n",
      "\u001b[1;31mTypeError\u001b[0m: 'datetime.timedelta' object is not callable"
     ]
    }
   ],
   "source": [
    "# calculate the daily normals for your trip\n",
    "# push each tuple of calculations into a list called `normals`\n",
    "\n",
    "# Set the start and end date of the trip\n",
    "\n",
    "trip_start = dt.date(2016, 9, 23)\n",
    "trip_end = dt.date(2016, 9, 29)\n",
    "\n",
    "\n",
    "# Use the start and end date to create a range of dates\n",
    "\n",
    "delta = trip_end - trip_start\n",
    "delta\n",
    "\n",
    "trip_range = []\n",
    "\n",
    "for i in range(delta.days + 1):\n",
    "    trip_range.append((trip_start + timedelta(i)).strftime('%m-%d'))\n",
    "    \n",
    "trip_range\n",
    "\n",
    "# Strip off the year and save a list of %m-%d strings\n",
    "\n",
    "\n",
    "# Loop through the list of %m-%d strings and calculate the normals for each date\n",
    "\n",
    "\n",
    "\n",
    "for i in trip_range:\n",
    "    print(daily_normals(i))\n",
    "    \n",
    "\n",
    "daily_normals(trip_range[0])\n"
   ]
  },
  {
   "cell_type": "code",
   "execution_count": null,
   "metadata": {},
   "outputs": [],
   "source": [
    "# Load the previous query results into a Pandas DataFrame and add the `trip_dates` range as the `date` index\n",
    "\n",
    "daily_min = []\n",
    "daily_avg = []\n",
    "daily_max = []\n",
    "\n",
    "for i in range(len(trip_range)):\n",
    "    for j in trip_range[i][0]:\n",
    "        daily_min.append(daily_normals(trip_range[i])[0][0])\n",
    "        daily_avg.append(daily_normals(trip_range[i])[0][1])\n",
    "        daily_max.append(daily_normals(trip_range[i])[0][2])\n",
    "        \n",
    "daily_df = pd.DataFrame({\n",
    "    'Daily Min': daily_min,\n",
    "    'Daily Avg': daily_avg,\n",
    "    'Daily Max': daily_max,\n",
    "    'Date': trip_range\n",
    "})\n",
    "\n",
    "daily_df = daily_df.set_index('Date')\n",
    "daily_df\n",
    "        \n"
   ]
  },
  {
   "cell_type": "code",
   "execution_count": null,
   "metadata": {},
   "outputs": [],
   "source": [
    "# Plot the daily normals as an area plot with `stacked=False`\n",
    "\n",
    "x_values = list(daily_df.index.values)\n",
    "\n",
    "#daily_df.plot(x_values, [daily_df['Daily Min'],daily_df['Daily Avg']], kind='bar')\n",
    "\n",
    "#daily_df.plot(kind='bar')\n",
    "daily_df"
   ]
  },
  {
   "cell_type": "code",
   "execution_count": null,
   "metadata": {},
   "outputs": [],
   "source": [
    "for i in range(len(trip_range)):\n",
    "    print(i)"
   ]
  },
  {
   "cell_type": "code",
   "execution_count": null,
   "metadata": {},
   "outputs": [],
   "source": []
  },
  {
   "cell_type": "code",
   "execution_count": null,
   "metadata": {},
   "outputs": [],
   "source": []
  }
 ],
 "metadata": {
  "kernel_info": {
   "name": "python3"
  },
  "kernelspec": {
   "display_name": "Python 3",
   "language": "python",
   "name": "python3"
  },
  "language_info": {
   "codemirror_mode": {
    "name": "ipython",
    "version": 3
   },
   "file_extension": ".py",
   "mimetype": "text/x-python",
   "name": "python",
   "nbconvert_exporter": "python",
   "pygments_lexer": "ipython3",
   "version": "3.6.5"
  },
  "nteract": {
   "version": "0.9.1"
  },
  "varInspector": {
   "cols": {
    "lenName": 16,
    "lenType": 16,
    "lenVar": 40
   },
   "kernels_config": {
    "python": {
     "delete_cmd_postfix": "",
     "delete_cmd_prefix": "del ",
     "library": "var_list.py",
     "varRefreshCmd": "print(var_dic_list())"
    },
    "r": {
     "delete_cmd_postfix": ") ",
     "delete_cmd_prefix": "rm(",
     "library": "var_list.r",
     "varRefreshCmd": "cat(var_dic_list()) "
    }
   },
   "types_to_exclude": [
    "module",
    "function",
    "builtin_function_or_method",
    "instance",
    "_Feature"
   ],
   "window_display": false
  }
 },
 "nbformat": 4,
 "nbformat_minor": 2
}
